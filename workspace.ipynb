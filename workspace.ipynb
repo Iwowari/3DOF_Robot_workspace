{
 "cells": [
  {
   "cell_type": "code",
   "execution_count": 1,
   "metadata": {},
   "outputs": [],
   "source": [
    "import numpy as np\n",
    "import os\n",
    "import math\n",
    "import pandas as pd\n",
    "import matplotlib.pyplot as plt"
   ]
  },
  {
   "cell_type": "code",
   "execution_count": 2,
   "metadata": {},
   "outputs": [],
   "source": [
    "a2= 10\n",
    "a3=10"
   ]
  },
  {
   "cell_type": "code",
   "execution_count": 3,
   "metadata": {},
   "outputs": [],
   "source": [
    "alldata=[]\n",
    "allcolumns= ['teta_1','teta_2','teta_3','x','y', 'z']"
   ]
  },
  {
   "cell_type": "code",
   "execution_count": 4,
   "metadata": {},
   "outputs": [],
   "source": [
    "theta_1= list(range(0,360))\n",
    "theta_2= list(range(-45,226))\n",
    "theta_3= list(range(-45,226))"
   ]
  },
  {
   "cell_type": "code",
   "execution_count": 5,
   "metadata": {},
   "outputs": [],
   "source": [
    "for teta_1 in theta_1:\n",
    "    for teta_2 in theta_2:\n",
    "        for teta_3 in theta_3:\n",
    "            x = math.cos(math.radians(teta_1)) * (a2*math.cos(math.radians(teta_2))+a2*math.cos(math.radians(teta_2 + teta_3)))\n",
    "            y= math.sin(math.radians(teta_1)) * (a2*math.cos(math.radians(teta_2))+a2*math.cos(math.radians(teta_2 + teta_3)))\n",
    "            z= (a2*math.sin(math.radians(teta_2))+a2*math.sin(math.radians(teta_2 + teta_3)))\n",
    "\n",
    "\n",
    "            alldata.append([teta_1,teta_2,teta_3, x,y,z])\n",
    "\n",
    "df= pd.DataFrame(data=alldata, columns = allcolumns)\n",
    "df.to_csv(\"robot_arm_rrr.csv\", header= True, index=False)\n",
    "\n",
    "            \n",
    "\n"
   ]
  },
  {
   "cell_type": "code",
   "execution_count": null,
   "metadata": {},
   "outputs": [],
   "source": [
    "df= pd.read_csv(\"robot_arm_rrr.csv\")\n",
    "x= df.x.tolist()\n",
    "y= df.y.tolist()\n",
    "z= df.z.tolist()\n",
    "\n",
    "ax= plt.axis(projection= '3d')\n",
    "ax.grid()\n",
    "\n",
    "ax.plot3D(x,y,z)\n",
    "\n",
    "plt.show()"
   ]
  }
 ],
 "metadata": {
  "kernelspec": {
   "display_name": "Python 3",
   "language": "python",
   "name": "python3"
  },
  "language_info": {
   "codemirror_mode": {
    "name": "ipython",
    "version": 3
   },
   "file_extension": ".py",
   "mimetype": "text/x-python",
   "name": "python",
   "nbconvert_exporter": "python",
   "pygments_lexer": "ipython3",
   "version": "3.10.0"
  }
 },
 "nbformat": 4,
 "nbformat_minor": 2
}
